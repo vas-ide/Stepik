{
 "cells": [
  {
   "cell_type": "code",
   "execution_count": null,
   "metadata": {},
   "outputs": [],
   "source": [
    "n = int(input())\n",
    "c = 1\n",
    "while c <= n:\n",
    "    print('*' * c)\n",
    "    c += 1"
   ]
  },
  {
   "cell_type": "code",
   "execution_count": null,
   "metadata": {},
   "outputs": [],
   "source": [
    "n = int(input())\n",
    "stars = '*'\n",
    "while len(stars) <= n:\n",
    "    print(stars)\n",
    "    stars += '*'"
   ]
  },
  {
   "cell_type": "code",
   "execution_count": null,
   "metadata": {},
   "outputs": [],
   "source": [
    "a = int(input())\n",
    "s = 0\n",
    "\n",
    "while  a != 0:\n",
    "    s += a  \n",
    "    a = int(input())\n",
    "print(s)"
   ]
  },
  {
   "cell_type": "code",
   "execution_count": null,
   "metadata": {},
   "outputs": [],
   "source": [
    "a,b = int(input()),int(input())\n",
    "d = 1\n",
    "while (d % a != 0 or d % b != 0):\n",
    "    d += 1\n",
    "print(d)\n",
    " "
   ]
  },
  {
   "cell_type": "code",
   "execution_count": null,
   "metadata": {},
   "outputs": [],
   "source": [
    "while True:\n",
    "    a = int(input())\n",
    "    if (a > 100):\n",
    "        break\n",
    "    if (a < 10):\n",
    "        continue\n",
    "    print(a)"
   ]
  },
  {
   "cell_type": "code",
   "execution_count": null,
   "metadata": {},
   "outputs": [],
   "source": [
    "n = int(input())\n",
    "for i in range(n):\n",
    "    print('* '*n,'*'*n)"
   ]
  },
  {
   "cell_type": "code",
   "execution_count": null,
   "metadata": {},
   "outputs": [],
   "source": [
    "n = int(input())\n",
    "for i in range(n):\n",
    "    for j in range(n):\n",
    "        print('*',end='')\n",
    "        \n",
    "    print()"
   ]
  },
  {
   "cell_type": "code",
   "execution_count": null,
   "metadata": {},
   "outputs": [],
   "source": [
    "a,b = (int(i) for i in input().split()) #задаём диапазон через пробел\n",
    "sum = 0\n",
    "Iteration = 0\n",
    "\n",
    "if a % 3 != 0: a += 1\n",
    "if a % 3 != 0: a += 1\n",
    "for i in range(a,b + 1,3):\n",
    "    sum += i\n",
    "    Iteration += 1\n",
    "print(sum)\n",
    "print(Iteration)\n",
    "print(sum / Iteration)"
   ]
  },
  {
   "cell_type": "code",
   "execution_count": null,
   "metadata": {},
   "outputs": [],
   "source": [
    "a,b,c,d = int(input()),int(input()),int(input()),int(input())\n",
    "\n",
    "for j in range(c,d + 1):\n",
    "    print('\\t',j,end=' ')\n",
    "print()\n",
    "for i in range(a,b + 1):\n",
    "    print(i, end=\"\\t\")\n",
    "    for j in range(c,d + 1):\n",
    "        print(i * j,end='\\t')\n",
    "       \n",
    "    print()"
   ]
  },
  {
   "cell_type": "code",
   "execution_count": null,
   "metadata": {},
   "outputs": [],
   "source": [
    "genome = input()\n",
    "cnt = 0 # Или просто: print(genome.count('C'))\n",
    "for nucl in genome:\n",
    "    if nucl == 'C':\n",
    "        cnt += 1\n",
    "print(cnt)\n"
   ]
  },
  {
   "cell_type": "code",
   "execution_count": null,
   "metadata": {},
   "outputs": [],
   "source": [
    "genome = input().upper()\n",
    "Number = len(genome)\n",
    "Gcnt = 0\n",
    "Ccnt = 0\n",
    "\n",
    "for G_Count in genome:\n",
    "    if G_Count == 'G':\n",
    "        Gcnt +=1\n",
    "for C_Count in genome:\n",
    "    if C_Count == 'C':\n",
    "        Ccnt +=1\n",
    "rezult = (((Ccnt + Gcnt) / Number)* 100 )\n",
    "print(rezult)"
   ]
  },
  {
   "cell_type": "code",
   "execution_count": null,
   "metadata": {},
   "outputs": [],
   "source": [
    "s = input()                        # Альтернативное решение:\n",
    "i = 0                              # r = [::-1]\n",
    "j = len(s) - 1                     # if s == r:\n",
    "is_palindrom = True                #    print('YES')\n",
    "while i < j:                       # else:\n",
    "    if s[i] != s[j]:               #    print('NO')\n",
    "        is_palindrom = False\n",
    "        break\n",
    "    i += 1\n",
    "    j -= 1\n",
    "if is_palindrom:\n",
    "    print('YES')\n",
    "else:\n",
    "    print(\"NO\")"
   ]
  },
  {
   "cell_type": "code",
   "execution_count": 1,
   "metadata": {},
   "outputs": [
    {
     "name": "stdout",
     "output_type": "stream",
     "text": [
      "a3b4c2e10b1"
     ]
    }
   ],
   "source": [
    "string = input()                                 #aaaabbсaa => a4b2с1a2\n",
    "index = 1\n",
    "\n",
    "for ex in range(len(string) - 1):\n",
    "    if string[ex] == string[ex + 1]:\n",
    "        index += 1\n",
    "    elif string[ex] != string[ex + 1]:\n",
    "        print(string[ex] + str(index), end='')\n",
    "        index = 1\n",
    "print(string[-1] + str(index), end='')\n",
    "        \n",
    "        \n"
   ]
  },
  {
   "cell_type": "code",
   "execution_count": null,
   "metadata": {},
   "outputs": [],
   "source": [
    "string = [int(i) for i in (input().split())] \n",
    "i = 0                            # Альтернатива\n",
    "while i < len(string):           # print(sum(int(i) for i in input().split()))\n",
    "    sum += string[i]\n",
    "    i += 1\n",
    "    \n",
    "\n",
    "print(sum)"
   ]
  },
  {
   "cell_type": "code",
   "execution_count": null,
   "metadata": {},
   "outputs": [],
   "source": [
    "string = [int(i) for i in (input().split())] \n",
    "i = 0\n",
    "list = []\n",
    "\n",
    "if len(string) == 1:\n",
    "    print(*string)\n",
    "else:\n",
    "    for i in range(len(string)):\n",
    "        if i == 0:\n",
    "            list.append ((string[-1]) + string[1])\n",
    "            i +=1\n",
    "        elif i == len(string) - 1:\n",
    "            list.append ((string[i - 1]) + string[0])\n",
    "            i +=1\n",
    "        else:\n",
    "            list.append ((string[i - 1]) + (string[i + 1]))\n",
    "            i +=1\n",
    "    print(*list)"
   ]
  },
  {
   "cell_type": "code",
   "execution_count": null,
   "metadata": {},
   "outputs": [],
   "source": [
    "string = [int(i) for i in (input().split())]\n",
    "list = []\n",
    "\n",
    "for i in string:\n",
    "    if not i in list and string.count(i) > 1:\n",
    "        list +=[i]\n",
    "list.sort()\n",
    "print(*list)"
   ]
  },
  {
   "cell_type": "code",
   "execution_count": null,
   "metadata": {},
   "outputs": [],
   "source": [
    "string = [int(i) for i in (input().split())]\n",
    "mi = string[0]\n",
    "for i in string:\n",
    "    if mi > i:\n",
    "        mi = i\n",
    "print(mi)"
   ]
  },
  {
   "cell_type": "code",
   "execution_count": null,
   "metadata": {},
   "outputs": [],
   "source": [
    "##Поле для игры Сапер \n",
    "# 5 4 4\n",
    "# 1 1\n",
    "# 2 2\n",
    "# 3 2\n",
    "# 4 4\n",
    "# *21.\n",
    "# 3*2.\n",
    "# 2*31\n",
    "# 112*\n",
    "# ..11\n",
    "\n",
    "n, m, k = (int(i) for i in input().split())  # чтение размеров поля и числа мин\n",
    "a = [[0 for j in range(m)] for i in range(n)]  # заполнение поля нулями\n",
    "for i in range(k):\n",
    "    row, col = (int(i) - 1 for i in input().split())\n",
    "    a[row][col] = -1  # расставляем мины\n",
    "for i in range(n):\n",
    "    for j in range(m):\n",
    "        if a[i][j] == 0:  # в этой клетке мины нет, поэтому считаем число мин вокруг\n",
    "            for di in range(-1, 2):\n",
    "                for dj in range(-1, 2):\n",
    "                    ai = i + di\n",
    "                    aj = j + dj\n",
    "                    # (ai, aj)\n",
    "                    if 0 <= ai < n and 0 <= aj < m and a[ai][aj] == -1:\n",
    "                        a[i][j] += 1\n",
    "# вывод результата\n",
    "for i in range(n):\n",
    "    for j in range(m):\n",
    "        if a[i][j] == -1:\n",
    "            print('*', end='')\n",
    "        elif a[i][j] == 0:\n",
    "            print('.', end='')\n",
    "        else:\n",
    "            print(a[i][j], end='')\n",
    "    print()"
   ]
  },
  {
   "cell_type": "code",
   "execution_count": 1,
   "metadata": {},
   "outputs": [
    {
     "name": "stdout",
     "output_type": "stream",
     "text": [
      "868\n"
     ]
    }
   ],
   "source": [
    "a = int(input())\n",
    "sum = a\n",
    "sum_extent = a ** 2\n",
    "\n",
    "\n",
    "while  sum != 0:\n",
    "    a = int(input())\n",
    "    sum_extent += a ** 2\n",
    "    sum += a \n",
    "print(sum_extent)"
   ]
  },
  {
   "cell_type": "code",
   "execution_count": null,
   "metadata": {},
   "outputs": [],
   "source": [
    "a = int(input())\n",
    "i = 0\n",
    "ai = []\n",
    "\n",
    "while i <= a:\n",
    "    i +=1\n",
    "    for k in range(i):\n",
    "        ai += [i]\n",
    "print(*ai[:a])\n"
   ]
  },
  {
   "cell_type": "code",
   "execution_count": null,
   "metadata": {},
   "outputs": [],
   "source": [
    "string = [int(i) for i in (input().split())]\n",
    "x = int(input())\n",
    "xi = []\n",
    "for i in range(len(string)):\n",
    "    if x == string[i]:\n",
    "        xi +=[i]\n",
    "if xi == []:\n",
    "    print('Отсутствует')\n",
    "print(*xi, end='')"
   ]
  },
  {
   "cell_type": "code",
   "execution_count": null,
   "metadata": {},
   "outputs": [],
   "source": []
  },
  {
   "cell_type": "code",
   "execution_count": null,
   "metadata": {},
   "outputs": [],
   "source": []
  },
  {
   "cell_type": "code",
   "execution_count": null,
   "metadata": {},
   "outputs": [],
   "source": []
  }
 ],
 "metadata": {
  "interpreter": {
   "hash": "b4b1cffff7b54da7491727565f7c944d4e3aeffae2aaa19786f3e29c73cae410"
  },
  "kernelspec": {
   "display_name": "Python 3.10.2 64-bit",
   "language": "python",
   "name": "python3"
  },
  "language_info": {
   "codemirror_mode": {
    "name": "ipython",
    "version": 3
   },
   "file_extension": ".py",
   "mimetype": "text/x-python",
   "name": "python",
   "nbconvert_exporter": "python",
   "pygments_lexer": "ipython3",
   "version": "3.10.2"
  },
  "orig_nbformat": 4
 },
 "nbformat": 4,
 "nbformat_minor": 2
}
