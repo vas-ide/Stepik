{
 "cells": [
  {
   "cell_type": "code",
   "execution_count": null,
   "metadata": {},
   "outputs": [],
   "source": [
    "# Функции."
   ]
  },
  {
   "cell_type": "code",
   "execution_count": null,
   "metadata": {},
   "outputs": [],
   "source": [
    "def f(x):\n",
    "    if x <= -2:\n",
    "        rezult = 1 - (x + 2) ** 2\n",
    "    elif -2 < x <= 2:\n",
    "        rezult = - x / 2\n",
    "    elif x > 2:\n",
    "        rezult = (x - 2) ** 2 + 1\n",
    "    return rezult"
   ]
  },
  {
   "cell_type": "code",
   "execution_count": 12,
   "metadata": {},
   "outputs": [],
   "source": [
    "def modify_list(l):\n",
    "    for i in l:\n",
    "        if i % 2 != 0:\n",
    "            l.remove (i)\n",
    "            i -=1\n",
    "        else: # i % 2 == 0:\n",
    "            l.remove(i)\n",
    "            l.append(l ,i // 2)\n",
    "  "
   ]
  },
  {
   "cell_type": "code",
   "execution_count": 19,
   "metadata": {},
   "outputs": [],
   "source": [
    "def modify_list(l):\n",
    "    couter = (len(l) - 1)\n",
    "    while couter >= -1:\n",
    "        if l[couter] % 2 != 0:\n",
    "            l.remove(l[couter])\n",
    "            couter -= 1\n",
    "        else: # l[couter] % 2 == 0:\n",
    "            l.remove(l[couter])\n",
    "            l.insert(couter, l[couter] // 2)\n",
    "            couter -= 1"
   ]
  },
  {
   "cell_type": "code",
   "execution_count": 20,
   "metadata": {},
   "outputs": [],
   "source": [
    "def modify_list(l):\n",
    "    couter = (len(l) - 1)\n",
    "    while couter == 0:\n",
    "        if l[couter] % 2 != 0:\n",
    "            l.remove (l[couter])\n",
    "            couter -= 1\n",
    "        else: # l[couter] % 2 == 0:\n",
    "            l.remove(l[couter])\n",
    "            l.append(l[couter] // 2)\n",
    "            couter -= 1\n",
    "    return l.reverse()\n"
   ]
  },
  {
   "cell_type": "code",
   "execution_count": 23,
   "metadata": {},
   "outputs": [],
   "source": [
    "def modify_list(l):\n",
    "    l = [1, 2, 3, 4, 5, 6]\n",
    "\n",
    "    couter = (len(l) - 1)\n",
    "    while couter == 0:\n",
    "        if l[couter] % 2 != 0:\n",
    "            del l[couter]\n",
    "            couter -= 1\n",
    "        elif l[couter] == 0:\n",
    "            del l[couter]\n",
    "            couter -= 1\n",
    "        else: # l[couter] % 2 == 0:\n",
    "            \n",
    "            couter -= 1\n",
    "    \n",
    "        #  l == [i // 2 for i in l]\n",
    "    l.reverse() == l\n",
    "    print(l)\n",
    "  "
   ]
  },
  {
   "cell_type": "code",
   "execution_count": null,
   "metadata": {},
   "outputs": [],
   "source": [
    "def modify_list(l):\n",
    "    ll = l\n",
    "    i = 0\n",
    "    while i <= len(ll) - 1:\n",
    "        if ll[i] % 2 != 0:\n",
    "            del l[i]\n",
    "            i +=1\n",
    "        elif ll[i] == 0:\n",
    "            del l[i]\n",
    "            i +=1\n",
    "        elif ll[i] % 2 == 0:\n",
    "            del l[i]\n",
    "            i +=1\n",
    "            l.append(ll[i] // 2)\n",
    "   "
   ]
  },
  {
   "cell_type": "code",
   "execution_count": null,
   "metadata": {},
   "outputs": [],
   "source": []
  }
 ],
 "metadata": {
  "interpreter": {
   "hash": "b4b1cffff7b54da7491727565f7c944d4e3aeffae2aaa19786f3e29c73cae410"
  },
  "kernelspec": {
   "display_name": "Python 3.10.2 64-bit",
   "language": "python",
   "name": "python3"
  },
  "language_info": {
   "codemirror_mode": {
    "name": "ipython",
    "version": 3
   },
   "file_extension": ".py",
   "mimetype": "text/x-python",
   "name": "python",
   "nbconvert_exporter": "python",
   "pygments_lexer": "ipython3",
   "version": "3.10.2"
  },
  "orig_nbformat": 4
 },
 "nbformat": 4,
 "nbformat_minor": 2
}
