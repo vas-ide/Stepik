{
 "cells": [
  {
   "cell_type": "code",
   "execution_count": null,
   "metadata": {},
   "outputs": [],
   "source": [
    "A = int(input())\n",
    "B = int(input())\n",
    "H = int(input())\n",
    "\n",
    "if (A <= H <= B ):\n",
    "    print(\"Это нормально\")\n",
    "elif(A > H):\n",
    "    print(\"Недосып\")\n",
    "elif(B < H):\n",
    "    print(\"Пересып\")"
   ]
  },
  {
   "cell_type": "code",
   "execution_count": null,
   "metadata": {},
   "outputs": [],
   "source": [
    "n = int(input())\n",
    "\n",
    "if (n % 4 == 0 and n % 100 != 0 or n % 400 == 0):\n",
    "    print(\"Високосный\")\n",
    "else:\n",
    "    print(\"Обычный\")"
   ]
  },
  {
   "cell_type": "code",
   "execution_count": null,
   "metadata": {},
   "outputs": [],
   "source": [
    "Площадь Герона\n",
    "\n",
    "a = int(input())\n",
    "b = int(input())\n",
    "c = int(input())\n",
    "\n",
    "p = (a + b +c) / 2\n",
    "s = (p * (p - a) * (p - b) * (p - c)) ** 0.5\n",
    "print(s)"
   ]
  },
  {
   "cell_type": "code",
   "execution_count": null,
   "metadata": {},
   "outputs": [],
   "source": [
    "a = int(input())\n",
    "\n",
    "if (-15 < a <= 12 or 14 < a < 17 or a >= 19):\n",
    "    print(\"True\")\n",
    "else:\n",
    "    print(\"False\")"
   ]
  },
  {
   "cell_type": "code",
   "execution_count": null,
   "metadata": {},
   "outputs": [],
   "source": [
    "a = float(input())\n",
    "b = float(input())\n",
    "c = input()\n",
    "\n",
    "if(b == 0.0 and c == '/' or b == 0.0 and c == 'mod' or b == 0.0 and c == 'div'):\n",
    "    print(\"Деление на 0!\")\n",
    "elif(c == '+'):\n",
    "    print(a + b)\n",
    "elif(c == '-'):\n",
    "    print(a - b)\n",
    "elif(c == '*'):\n",
    "    print(a * b)\n",
    "elif(c == '/'):\n",
    "    print(a / b)\n",
    "elif(c == 'mod'):\n",
    "    print(a % b)\n",
    "elif(c == 'pow'):\n",
    "    print(a ** b)\n",
    "elif(c == 'div'):\n",
    "    print(a // b)"
   ]
  },
  {
   "cell_type": "code",
   "execution_count": null,
   "metadata": {},
   "outputs": [],
   "source": [
    "Type = input()\n",
    "if (Type == 'треугольник'):\n",
    "    a = int(input())\n",
    "    b = int(input())\n",
    "    c = int(input())\n",
    "    \n",
    "    p = (a + b +c) / 2\n",
    "    s = (p * (p - a) * (p - b) * (p - c)) ** 0.5\n",
    "    print(s)\n",
    "elif (Type == 'прямоугольник'):\n",
    "    a = int(input())\n",
    "    b = int(input())\n",
    "    \n",
    "    s = a * b\n",
    "    print(s)\n",
    "elif (Type == 'круг'):\n",
    "    r = int(input())\n",
    "    pi = 3.14\n",
    "    \n",
    "    s = pi * (r ** 2)\n",
    "    print(s)"
   ]
  },
  {
   "cell_type": "code",
   "execution_count": null,
   "metadata": {},
   "outputs": [],
   "source": [
    "a,b,c = int(input()),int(input()),int(input());\n",
    "max,min = a,a;\n",
    "\n",
    "if(max < b): max = b;\n",
    "if(max < c): max = c;\n",
    "if(min > b): min = b;\n",
    "if(min > c): min = c;\n",
    "print(max);\n",
    "print(min);\n",
    "print((a + b + c)-(min + max));"
   ]
  },
  {
   "cell_type": "code",
   "execution_count": null,
   "metadata": {},
   "outputs": [],
   "source": [
    "n = int(input())\n",
    "if(n % 10 == 0 or 11 <= n % 100 <= 14):\n",
    "    print(f'{n} программистов')\n",
    "elif(n % 10 == 1):\n",
    "    print(f'{n} программист')\n",
    "elif(2 <= n % 10 <= 4):\n",
    "    print(f'{n} программиста')\n",
    "else:\n",
    "    print(f'{n} программистов')"
   ]
  },
  {
   "cell_type": "code",
   "execution_count": null,
   "metadata": {},
   "outputs": [],
   "source": [
    "n = str(input())\n",
    "a = int(n[0])\n",
    "b = int(n[1])\n",
    "c = int(n[2])\n",
    "d = int(n[3])\n",
    "e = int(n[4])\n",
    "f = int(n[5])\n",
    "R1 = (a + b + c)\n",
    "R2 = (d + e + f)\n",
    "if (R1 == R2):\n",
    "    print('Счастливый')\n",
    "else:\n",
    "    print('Обычный')\n"
   ]
  }
 ],
 "metadata": {
  "language_info": {
   "name": "python"
  },
  "orig_nbformat": 4
 },
 "nbformat": 4,
 "nbformat_minor": 2
}
